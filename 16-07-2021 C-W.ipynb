{
 "cells": [
  {
   "cell_type": "code",
   "execution_count": 23,
   "metadata": {},
   "outputs": [
    {
     "name": "stdout",
     "output_type": "stream",
     "text": [
      "Selling Price:  90\n"
     ]
    }
   ],
   "source": [
    "class Computer:\n",
    "    \n",
    "    def __init__(self):\n",
    "        self.__maxprice=90 #private variable\n",
    "        \n",
    "    def sell(self):\n",
    "        print(\"Selling Price: \",self.__maxprice)\n",
    "    \n",
    "    def setMaxPrice(self,price):\n",
    "        self.__maxprice=price\n",
    "        print(self.__maxprice)\n",
    "        self.__privateMethod()\n",
    "        \n",
    "    def __privateMethod(self):\n",
    "        print(\"I am private method\")\n",
    "        \n",
    "\n",
    "c=Computer()\n",
    "c.sell()"
   ]
  },
  {
   "cell_type": "code",
   "execution_count": 24,
   "metadata": {},
   "outputs": [
    {
     "name": "stdout",
     "output_type": "stream",
     "text": [
      "40\n",
      "I am private method\n"
     ]
    }
   ],
   "source": [
    "c.setMaxPrice(40)"
   ]
  },
  {
   "cell_type": "code",
   "execution_count": 25,
   "metadata": {},
   "outputs": [
    {
     "ename": "AttributeError",
     "evalue": "'Computer' object has no attribute '__privateMethod'",
     "output_type": "error",
     "traceback": [
      "\u001b[1;31m---------------------------------------------------------------------------\u001b[0m",
      "\u001b[1;31mAttributeError\u001b[0m                            Traceback (most recent call last)",
      "\u001b[1;32m<ipython-input-25-03b82e58886b>\u001b[0m in \u001b[0;36m<module>\u001b[1;34m\u001b[0m\n\u001b[1;32m----> 1\u001b[1;33m \u001b[0mc\u001b[0m\u001b[1;33m.\u001b[0m\u001b[0m__privateMethod\u001b[0m\u001b[1;33m(\u001b[0m\u001b[1;33m)\u001b[0m\u001b[1;33m\u001b[0m\u001b[1;33m\u001b[0m\u001b[0m\n\u001b[0m",
      "\u001b[1;31mAttributeError\u001b[0m: 'Computer' object has no attribute '__privateMethod'"
     ]
    }
   ],
   "source": [
    "c.__privateMethod()"
   ]
  },
  {
   "cell_type": "code",
   "execution_count": 29,
   "metadata": {},
   "outputs": [],
   "source": [
    "class Encap:\n",
    "    \n",
    "    __maxprice=90\n",
    "    \n",
    "    def getMaxPrice(self):\n",
    "        print(self.__maxprice)\n",
    "        \n",
    "    def setMaxPrice(self,price):\n",
    "        self.__maxprice=price\n",
    "        print(self.__maxprice)\n",
    "        "
   ]
  },
  {
   "cell_type": "code",
   "execution_count": 30,
   "metadata": {},
   "outputs": [
    {
     "name": "stdout",
     "output_type": "stream",
     "text": [
      "40\n"
     ]
    }
   ],
   "source": [
    "a=Encap()\n",
    "a.setMaxPrice(40)"
   ]
  },
  {
   "cell_type": "code",
   "execution_count": 1,
   "metadata": {},
   "outputs": [],
   "source": [
    "#Private variable of parent class can be accessd by child class\n"
   ]
  },
  {
   "cell_type": "code",
   "execution_count": 2,
   "metadata": {},
   "outputs": [
    {
     "data": {
      "text/plain": [
       "600"
      ]
     },
     "execution_count": 2,
     "metadata": {},
     "output_type": "execute_result"
    }
   ],
   "source": [
    "class forPublicVariable():\n",
    "    var=1000\n",
    "o=forPublicVariable()\n",
    "o.var=600\n",
    "o.var"
   ]
  },
  {
   "cell_type": "code",
   "execution_count": 5,
   "metadata": {},
   "outputs": [
    {
     "name": "stdout",
     "output_type": "stream",
     "text": [
      "['ali', 20, 100.55, <class 'bool'>]\n",
      "['ali', 20, 100.55, <class 'bool'>, 'string']\n"
     ]
    }
   ],
   "source": [
    "class Encap:\n",
    "    \n",
    "    def __init__(self):\n",
    "        self.__List=['ali',20,100.55,type(True)]\n",
    "        \n",
    "    def setList(self,var):\n",
    "        self.__List.append(var)\n",
    "        \n",
    "    def getList(self):\n",
    "        print(self.__List)\n",
    "        \n",
    "object1=Encap()\n",
    "object1.getList()\n",
    "object1.setList('string')\n",
    "object1.getList()"
   ]
  },
  {
   "cell_type": "code",
   "execution_count": 6,
   "metadata": {},
   "outputs": [
    {
     "name": "stdout",
     "output_type": "stream",
     "text": [
      "All birds can fly.\n",
      "Penguin can't fly.\n"
     ]
    }
   ],
   "source": [
    "class Bird:\n",
    "    \n",
    "    def fly(self):\n",
    "        print(\"All birds can fly.\")\n",
    "        \n",
    "    def swim(self):\n",
    "        print(\"Birds can swim.\")\n",
    "        \n",
    "\n",
    "class Penguin(Bird):\n",
    "    \n",
    "    def fly(self):\n",
    "        print(\"Penguin can't fly.\")\n",
    "        \n",
    "    def swim(self):\n",
    "        print(\"Penguin can swim.\")\n",
    "        \n",
    "bird1=Bird()\n",
    "bird1.fly()\n",
    "bird2=Penguin()\n",
    "bird2.fly()"
   ]
  },
  {
   "cell_type": "code",
   "execution_count": 7,
   "metadata": {},
   "outputs": [],
   "source": [
    "# signature=name+number of parameters"
   ]
  },
  {
   "cell_type": "markdown",
   "metadata": {},
   "source": [
    "# Abstraction"
   ]
  },
  {
   "cell_type": "code",
   "execution_count": 11,
   "metadata": {},
   "outputs": [],
   "source": [
    "#abstract class is an incomplete class"
   ]
  },
  {
   "cell_type": "code",
   "execution_count": 12,
   "metadata": {},
   "outputs": [],
   "source": [
    "# ABC -----> import abstract base class"
   ]
  },
  {
   "cell_type": "code",
   "execution_count": 13,
   "metadata": {},
   "outputs": [],
   "source": [
    "from abc import ABC,abstractmethod"
   ]
  },
  {
   "cell_type": "code",
   "execution_count": 16,
   "metadata": {},
   "outputs": [
    {
     "name": "stdout",
     "output_type": "stream",
     "text": [
      "This is my implementation in child class.\n"
     ]
    }
   ],
   "source": [
    "class Abs(ABC):\n",
    "    \n",
    "    @abstractmethod\n",
    "    def abs_method(self):\n",
    "        pass\n",
    "\n",
    "class Abs_child(Abs):\n",
    "    def abs_method(self):\n",
    "        print(\"This is my implementation in child class.\")\n",
    "\n",
    "class child(Abs):\n",
    "    def abs_method(self):\n",
    "        print(\"This is second class.\")\n",
    "        \n",
    "c=Abs_child()\n",
    "c.abs_method()"
   ]
  },
  {
   "cell_type": "code",
   "execution_count": 18,
   "metadata": {},
   "outputs": [
    {
     "name": "stdout",
     "output_type": "stream",
     "text": [
      "This is second class.\n"
     ]
    }
   ],
   "source": [
    "d=child()\n",
    "d.abs_method()"
   ]
  },
  {
   "cell_type": "code",
   "execution_count": 19,
   "metadata": {},
   "outputs": [
    {
     "ename": "TypeError",
     "evalue": "Can't instantiate abstract class Abs with abstract methods abs_method",
     "output_type": "error",
     "traceback": [
      "\u001b[1;31m---------------------------------------------------------------------------\u001b[0m",
      "\u001b[1;31mTypeError\u001b[0m                                 Traceback (most recent call last)",
      "\u001b[1;32m<ipython-input-19-8ed025d7fb89>\u001b[0m in \u001b[0;36m<module>\u001b[1;34m\u001b[0m\n\u001b[1;32m----> 1\u001b[1;33m \u001b[0mobject1\u001b[0m\u001b[1;33m=\u001b[0m\u001b[0mAbs\u001b[0m\u001b[1;33m(\u001b[0m\u001b[1;33m)\u001b[0m\u001b[1;33m\u001b[0m\u001b[1;33m\u001b[0m\u001b[0m\n\u001b[0m",
      "\u001b[1;31mTypeError\u001b[0m: Can't instantiate abstract class Abs with abstract methods abs_method"
     ]
    }
   ],
   "source": [
    "object1=Abs()"
   ]
  },
  {
   "cell_type": "code",
   "execution_count": null,
   "metadata": {},
   "outputs": [],
   "source": []
  }
 ],
 "metadata": {
  "kernelspec": {
   "display_name": "Python 3",
   "language": "python",
   "name": "python3"
  },
  "language_info": {
   "codemirror_mode": {
    "name": "ipython",
    "version": 3
   },
   "file_extension": ".py",
   "mimetype": "text/x-python",
   "name": "python",
   "nbconvert_exporter": "python",
   "pygments_lexer": "ipython3",
   "version": "3.8.3"
  }
 },
 "nbformat": 4,
 "nbformat_minor": 4
}
